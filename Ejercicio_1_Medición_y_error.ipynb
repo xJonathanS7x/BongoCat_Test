{
  "cells": [
    {
      "cell_type": "markdown",
      "metadata": {
        "id": "oF-6uo0-LlEi"
      },
      "source": [
        "# Medición y error\n",
        "En el siguiente ejercicio simulamos las lecturas de un sensor ultrasónico HT-SR04 que se utiliza para medir un objeto que se encuentra a 10cm de distancia. \n",
        "- Voltaje de trabajo: 5V.\n",
        "- Corriente de trabajo: 15mA.\n",
        "- Frecuencia de trabajo: 40KHz\n",
        "- Rango de funcionamiento: 2 a 500 cm\n"
      ]
    },
    {
      "cell_type": "markdown",
      "metadata": {
        "id": "XCzy86pTL5i-"
      },
      "source": [
        "Comenzaremos importando las librerias de numpy para hacer operaciones en matrices y matplotlib para graficar los datos\n",
        "Luego utilizaremos el método **simulate_sensor** para simular las mediciones del sensor ultrasónico "
      ]
    },
    {
      "cell_type": "code",
      "execution_count": null,
      "metadata": {
        "id": "nr7n-E-SLlEj"
      },
      "outputs": [],
      "source": [
        "import numpy as np\n",
        "import matplotlib.pyplot as plt"
      ]
    },
    {
      "cell_type": "code",
      "execution_count": null,
      "metadata": {
        "id": "7IzrdqzgLlEk"
      },
      "outputs": [],
      "source": [
        "def simulate_sensor(bias, std, target_values, n_meas=10):\n",
        "    \"\"\" \n",
        "    Simula lecturas del sensor agregando un ruido gausiana al valor real\n",
        "        Parametros de entrada\n",
        "            bias: float - Error sistemático generado por defectos en la fabricación del sensor.\n",
        "            std: float - Error aleatorio generado por ruido en el sistema.\n",
        "            target_values: Array of floats - Lecturas que deseamos simular\n",
        "            n_meas: int - Cantidad de lecturas por cada valor especificado en target values\n",
        "        Salida\n",
        "            sensor_values: np_array of floats - Todas las lecturas simuladas\n",
        "            data_per_target: dict with np_arrays - Lecturas de cada target_value\n",
        "    \"\"\"\n",
        "    sensor_values = []\n",
        "    data_per_target = {}\n",
        "\n",
        "    buckets = len(target_values)\n",
        "    for i, real_val in enumerate(target_values, 0):\n",
        "        measurements = np.random.normal(real_val + bias, std, size=n_meas)\n",
        "        measurements = np.abs(measurements)\n",
        "        sensor_values.append(measurements)\n",
        "        data_per_target[real_val] = measurements\n",
        "\n",
        "    sensor_values = np.concatenate(sensor_values)\n",
        "    return sensor_values, data_per_target"
      ]
    },
    {
      "cell_type": "markdown",
      "metadata": {
        "id": "xy5yDeSLF3Wy"
      },
      "source": [
        "Es momento de usar el método **simulate sensors** y visualizar las mediciones generadas.\n",
        "\n",
        "Tu trabajo es simular las lecturas de un sensor con las siguientes caracteristicas:\n",
        "- Simula 100 mediciones de un objeto que esta a 10 centimetros de distancia\n",
        "- Utiliza un bias de 2 y una desviación estandar 5"
      ]
    },
    {
      "cell_type": "code",
      "execution_count": null,
      "metadata": {
        "colab": {
          "base_uri": "https://localhost:8080/",
          "height": 282
        },
        "id": "SjEPo13VF3Wz",
        "outputId": "6a0ca4c0-235c-4864-f0ad-7b874e463be4"
      },
      "outputs": [
        {
          "name": "stdout",
          "output_type": "stream",
          "text": [
            "Copiado por el nano\n"
          ]
        },
        {
          "data": {
            "image/png": "[encoded data removed]",
            "text/plain": [
              "<Figure size 432x288 with 1 Axes>"
            ]
          },
          "metadata": {
            "needs_background": "light"
          },
          "output_type": "display_data"
        }
      ],
      "source": [
        "# TODO: Escribe tu código en el siguiente rectangulo\n",
        "####### Start of solution #######\n",
        "bias = 2\n",
        "std = 5\n",
        "target_values = [10]\n",
        "n_meas = 10 \n",
        "####### End of solution #########\n",
        "\n",
        "sensor_data, _ = simulate_sensor(bias, std, target_values, n_meas)\n",
        "plt.hist(sensor_data, bins=10)\n",
        "plt.scatter(sensor_data, np.ones_like(sensor_data), c=\"red\", edgecolors='black')\n",
        "plt.show()\n"
      ]
    },
    {
      "cell_type": "markdown",
      "metadata": {
        "id": "Ma0R3koMF3W0"
      },
      "source": [
        "Contesta la siguiente pregunta con los datos obtenidos:\n",
        "\n",
        "**- ¿Cuál es la distancia máxima que leyo el sensor?**\n",
        "\n",
        "**- ¿Cuál es la distancia mínima que leyo el sensor?**\n",
        "\n",
        "**- ¿Cómo crees que cambiarian los valores medidos si reducimos la desviación estandar?**"
      ]
    },
    {
      "cell_type": "markdown",
      "metadata": {
        "id": "c8fkYRH1F3W0"
      },
      "source": [
        "Tras visualizar la gráfica podemos darnos una idea de que tan bueno es este sensor, pero sería bueno tener métricas para determinar si este es un sensor bueno o malo. \n",
        "\n",
        "Para ello calcularemos el error absoluto y el error relativo de este sensor.\n",
        "\n",
        "El **error absoluto** se puede calcular asi:\n",
        "\n",
        "- $Error_{abs} = |valor_{medido} - valor_{verdadero}|$\n",
        "\n",
        "El **error relativo** se calcula asi:\n",
        "\n",
        "- $Error_{rel} = \\frac{|valor_{medido} - valor_{verdadero}|}{valor_{medido}}\\times 100$\n",
        "\n",
        "Tu trabajo será rellenar los siguientes métodos para obtener los resultados deseados"
      ]
    },
    {
      "cell_type": "code",
      "execution_count": null,
      "metadata": {
        "colab": {
          "base_uri": "https://localhost:8080/"
        },
        "id": "HrqMp175F3W1",
        "outputId": "d58ca3c6-cdca-4016-a858-d868c63b13bc"
      },
      "outputs": [
        {
          "name": "stdout",
          "output_type": "stream",
          "text": [
            "[ 0.48822287  9.81323807  1.8629425   8.71000091  0.46587627  4.68793052\n",
            "  2.46859595  0.41208247  1.18969765 11.81734928]\n"
          ]
        },
        {
          "data": {
            "text/plain": [
              "4.191593648638394"
            ]
          },
          "execution_count": 16,
          "metadata": {},
          "output_type": "execute_result"
        }
      ],
      "source": [
        "from numpy.lib.function_base import average\n",
        "def get_absolute_error(meas, real):\n",
        "    \"\"\" \n",
        "    Calcula el error absoluto promedio\n",
        "        Parametros de entrada\n",
        "            meas: np.array of floats - Lecturas entregadas por el sensor.\n",
        "            real: np.array of floats - mediciones reales\n",
        "        Salida\n",
        "            abs_error: float - Error absoluto promedio\n",
        "    \"\"\"\n",
        "    #TODO: Termina la función\n",
        "    ####### Start of solution #######\n",
        "    eabs=np.abs(meas-real)\n",
        "    abs_error = np.average(eabs)\n",
        "    ####### End of solution #########\n",
        "    return abs_error\n",
        "\n",
        "# Hacemos un array de la misma dimension que las mediciones con el valor real\n",
        "real = np.full_like(sensor_data, 10)\n",
        "get_absolute_error(sensor_data, real)"
      ]
    },
    {
      "cell_type": "code",
      "execution_count": null,
      "metadata": {
        "colab": {
          "base_uri": "https://localhost:8080/"
        },
        "id": "x3D8FMMrF3W2",
        "outputId": "0e97f7a8-768a-4345-a221-da4c0e9f7f15"
      },
      "outputs": [
        {
          "data": {
            "text/plain": [
              "25.511578545348215"
            ]
          },
          "execution_count": 14,
          "metadata": {},
          "output_type": "execute_result"
        }
      ],
      "source": [
        "def get_relative_error(meas, real):\n",
        "    \"\"\" \n",
        "    Calcula el error relativo promedio\n",
        "        Parametros de entrada\n",
        "            meas: np.array of floats - Lecturas entregadas por el sensor.\n",
        "            real: np.array of floats - mediciones reales\n",
        "        Salida\n",
        "            rel_error: float - Error relativo promedio\n",
        "    \"\"\"\n",
        "    #TODO: Termina la función\n",
        "    ####### Start of solution #######\n",
        "    erel=((np.abs(meas-real))/meas)*100\n",
        "    \n",
        "    rel_error = np.average(erel)\n",
        "    ####### End of solution #########\n",
        "    return rel_error\n",
        "\n",
        "# Hacemos un array de la misma dimension que las mediciones con el valor real\n",
        "get_relative_error(sensor_data, real)"
      ]
    },
    {
      "cell_type": "markdown",
      "metadata": {
        "id": "sPUKSTULF3W2"
      },
      "source": [
        "A continuación simularemos la lectura de dos sensores distintos y ustedes deberán decidir que sensor es mejor con base a estos datos.\n",
        "Cada sensor realizo 10 mediciones a 20 objetos que fueron colocados a distintas distancias. Se generó una gráfica con las distancias reales en el eje de las $x$ y las lecturas medidas en el eje de las $y$. Con base en esa información deberás seleccionar que sensor utilizarías."
      ]
    },
    {
      "cell_type": "code",
      "execution_count": null,
      "metadata": {
        "colab": {
          "base_uri": "https://localhost:8080/",
          "height": 312
        },
        "id": "ZmP8l9sOLlEk",
        "outputId": "d375c77e-74dc-4cf6-fadd-ee4c40bd29e7"
      },
      "outputs": [
        {
          "name": "stdout",
          "output_type": "stream",
          "text": [
            "(200,)\n"
          ]
        },
        {
          "data": {
            "image/png": "[encoded data removed]",
            "text/plain": [
              "<Figure size 648x288 with 2 Axes>"
            ]
          },
          "metadata": {
            "needs_background": "light"
          },
          "output_type": "display_data"
        }
      ],
      "source": [
        "# Simulación de datos\n",
        "max_range=100\n",
        "buckets = 20\n",
        "n_meas = 10\n",
        "target_values = np.arange(0, max_range, step=max_range//buckets)\n",
        "targets = np.repeat(target_values, n_meas)\n",
        "sensor1_data, sensor1_data_dict = simulate_sensor(bias=1, std=8, target_values=target_values, n_meas=n_meas)\n",
        "sensor2_data, sensor2_data_dict= simulate_sensor(bias=10, std=1, target_values=target_values, n_meas=n_meas)\n",
        "\n",
        "# Graficas\n",
        "fig, (ax1, ax2) = plt.subplots(1, 2, figsize=(9,4))\n",
        "# Sensor 1\n",
        "ax1.set_title(\"Sensor 1\")\n",
        "ax1.scatter(targets, sensor1_data, edgecolor=\"black\")\n",
        "ax1.set_xlabel(\"valor real\")\n",
        "ax1.set_ylabel(\"valor medido\")\n",
        "ax1.grid()\n",
        "\n",
        "# Sensor 2\n",
        "ax2.set_title(\"Sensor 2\")\n",
        "ax2.scatter(targets, sensor2_data, edgecolor=\"black\")\n",
        "ax2.set_xlabel(\"valor real\")\n",
        "ax2.set_ylabel(\"valor medido\")\n",
        "ax2.grid()\n",
        "plt.show()"
      ]
    },
    {
      "cell_type": "markdown",
      "metadata": {
        "id": "Ash_xyhDF3W3"
      },
      "source": [
        "Solo observando las mediciones, contesta las siguientes preguntas\n",
        "\n",
        "- ¿Cuál sensor parece ser mejor?\n",
        "- ¿Cuál sensor crees que es más exacto?\n",
        "- ¿Cuál sensor crees que es más preciso?\n",
        "- ¿Cómo mejorarías las mediciones generadas por estos sensores?"
      ]
    },
    {
      "cell_type": "markdown",
      "metadata": {
        "id": "rLieAoXHF3W4"
      },
      "source": [
        "Calcula el error absoluto y relativo de cada sensor y descubre que sensor es mejor en base a este criterio"
      ]
    },
    {
      "cell_type": "code",
      "execution_count": null,
      "metadata": {
        "colab": {
          "base_uri": "https://localhost:8080/",
          "height": 279
        },
        "id": "cVYp6mjmF3W4",
        "outputId": "e0b77bae-83b2-4bb4-deed-449a40b3a56f"
      },
      "outputs": [
        {
          "data": {
            "image/png": "[encoded data removed]",
            "text/plain": [
              "<Figure size 648x288 with 2 Axes>"
            ]
          },
          "metadata": {
            "needs_background": "light"
          },
          "output_type": "display_data"
        }
      ],
      "source": [
        "def calc_errors(sensor_data_dict):\n",
        "    mean_error = {\"relative\": {}, \"absolute\": {}}\n",
        "    for real_val, measurements in sensor_data_dict.items():\n",
        "        \"\"\"Recordatorio:\n",
        "            real_val (int): Valor que real de las mediciones realizadas\n",
        "            measurements (nparray): 10 mediciones del valor conocido\n",
        "        \"\"\"\n",
        "        #TODO: Calcula: el error absoluto y relativo promedio por cada medicion\n",
        "        ####### Start of solution ######\n",
        "        eabs=np.abs(measurements-real)\n",
        "        abs_error = np.average(eabs)\n",
        "\n",
        "        erel = ((np.abs(measurements-real_val))/measurements)*100\n",
        "        rel_error = np.average(erel)\n",
        "\n",
        "        ####### End of solution #########\n",
        "        mean_error[\"absolute\"][real_val] = abs_error\n",
        "        mean_error[\"relative\"][real_val] = rel_error\n",
        "    return mean_error\n",
        "\n",
        "\n",
        "sensor1_errors = calc_errors(sensor1_data_dict)\n",
        "sensor2_errors = calc_errors(sensor2_data_dict)\n",
        "# Graficas\n",
        "fig, (ax1, ax2) = plt.subplots(1, 2, figsize=(9,4))\n",
        "ax1.scatter(sensor1_errors['relative'].keys(), sensor1_errors['relative'].values(), label=\"sensor 1\")\n",
        "ax1.scatter(sensor2_errors['relative'].keys(), sensor2_errors['relative'].values(), label=\"sensor 2\")\n",
        "ax1.set_xlabel(\"valor real\")\n",
        "ax1.set_ylabel(\"error relativo\")\n",
        "ax1.legend()\n",
        "ax2.scatter(sensor1_errors['absolute'].keys(), sensor1_errors['absolute'].values(), label=\"sensor 1\")\n",
        "ax2.scatter(sensor2_errors['absolute'].keys(), sensor2_errors['absolute'].values(), label=\"sensor 2\")\n",
        "ax2.set_xlabel(\"valor real\")\n",
        "ax2.set_ylabel(\"error absoluto\")\n",
        "ax2.legend()\n",
        "plt.show()\n"
      ]
    },
    {
      "cell_type": "markdown",
      "metadata": {
        "id": "YgdbEhbmF3W4"
      },
      "source": [
        "Observando la gráfica de los errores contesta las siguientes preguntas\n",
        "- ¿Qué comportamiento  tiene el error relativo conforme aumenta el valor real?\n",
        "- ¿Cómo explicas este fenómeno?\n",
        "- ¿Qué sensor tiene un error absoluto promedio más consistente?\n",
        "- ¿A qué crees que se debe?"
      ]
    },
    {
      "cell_type": "code",
      "execution_count": null,
      "metadata": {
        "colab": {
          "base_uri": "https://localhost:8080/",
          "height": 356
        },
        "id": "nOVKjsk8LlEl",
        "outputId": "a10d46a9-2005-4e77-eaa8-9a8d8963d752"
      },
      "outputs": [
        {
          "ename": "AttributeError",
          "evalue": "ignored",
          "output_type": "error",
          "traceback": [
            "\u001b[0;31m---------------------------------------------------------------------------\u001b[0m",
            "\u001b[0;31mAttributeError\u001b[0m                            Traceback (most recent call last)",
            "\u001b[0;32m<ipython-input-42-fbac99832506>\u001b[0m in \u001b[0;36m<module>\u001b[0;34m\u001b[0m\n\u001b[1;32m      4\u001b[0m \u001b[0;31m# TODO: Calcula el error absoluto y relativo utilizando todas las mediciones del sensor 1\u001b[0m\u001b[0;34m\u001b[0m\u001b[0;34m\u001b[0m\u001b[0;34m\u001b[0m\u001b[0m\n\u001b[1;32m      5\u001b[0m \u001b[0;31m#### Start ####\u001b[0m\u001b[0;34m\u001b[0m\u001b[0;34m\u001b[0m\u001b[0;34m\u001b[0m\u001b[0m\n\u001b[0;32m----> 6\u001b[0;31m \u001b[0merrors\u001b[0m \u001b[0;34m=\u001b[0m \u001b[0mcalc_errors\u001b[0m\u001b[0;34m(\u001b[0m\u001b[0msensor1_data\u001b[0m\u001b[0;34m)\u001b[0m\u001b[0;34m\u001b[0m\u001b[0;34m\u001b[0m\u001b[0m\n\u001b[0m\u001b[1;32m      7\u001b[0m \u001b[0mprint\u001b[0m\u001b[0;34m(\u001b[0m\u001b[0merrors\u001b[0m\u001b[0;34m)\u001b[0m\u001b[0;34m\u001b[0m\u001b[0;34m\u001b[0m\u001b[0m\n\u001b[1;32m      8\u001b[0m \u001b[0;34m\u001b[0m\u001b[0m\n",
            "\u001b[0;32m<ipython-input-25-333fe9c6663c>\u001b[0m in \u001b[0;36mcalc_errors\u001b[0;34m(sensor_data_dict)\u001b[0m\n\u001b[1;32m      1\u001b[0m \u001b[0;32mdef\u001b[0m \u001b[0mcalc_errors\u001b[0m\u001b[0;34m(\u001b[0m\u001b[0msensor_data_dict\u001b[0m\u001b[0;34m)\u001b[0m\u001b[0;34m:\u001b[0m\u001b[0;34m\u001b[0m\u001b[0;34m\u001b[0m\u001b[0m\n\u001b[1;32m      2\u001b[0m     \u001b[0mmean_error\u001b[0m \u001b[0;34m=\u001b[0m \u001b[0;34m{\u001b[0m\u001b[0;34m\"relative\"\u001b[0m\u001b[0;34m:\u001b[0m \u001b[0;34m{\u001b[0m\u001b[0;34m}\u001b[0m\u001b[0;34m,\u001b[0m \u001b[0;34m\"absolute\"\u001b[0m\u001b[0;34m:\u001b[0m \u001b[0;34m{\u001b[0m\u001b[0;34m}\u001b[0m\u001b[0;34m}\u001b[0m\u001b[0;34m\u001b[0m\u001b[0;34m\u001b[0m\u001b[0m\n\u001b[0;32m----> 3\u001b[0;31m     \u001b[0;32mfor\u001b[0m \u001b[0mreal_val\u001b[0m\u001b[0;34m,\u001b[0m \u001b[0mmeasurements\u001b[0m \u001b[0;32min\u001b[0m \u001b[0msensor_data_dict\u001b[0m\u001b[0;34m.\u001b[0m\u001b[0mitems\u001b[0m\u001b[0;34m(\u001b[0m\u001b[0;34m)\u001b[0m\u001b[0;34m:\u001b[0m\u001b[0;34m\u001b[0m\u001b[0;34m\u001b[0m\u001b[0m\n\u001b[0m\u001b[1;32m      4\u001b[0m         \"\"\"Recordatorio:\n\u001b[1;32m      5\u001b[0m             \u001b[0mreal_val\u001b[0m \u001b[0;34m(\u001b[0m\u001b[0mint\u001b[0m\u001b[0;34m)\u001b[0m\u001b[0;34m:\u001b[0m \u001b[0mValor\u001b[0m \u001b[0mque\u001b[0m \u001b[0mreal\u001b[0m \u001b[0mde\u001b[0m \u001b[0mlas\u001b[0m \u001b[0mmediciones\u001b[0m \u001b[0mrealizadas\u001b[0m\u001b[0;34m\u001b[0m\u001b[0;34m\u001b[0m\u001b[0m\n",
            "\u001b[0;31mAttributeError\u001b[0m: 'numpy.ndarray' object has no attribute 'items'"
          ]
        }
      ],
      "source": [
        "# Targets representa los valores ideales que debimos haber medido\n",
        "targets = np.repeat(target_values, n_meas)\n",
        "\n",
        "# TODO: Calcula el error absoluto y relativo utilizando todas las mediciones del sensor 1\n",
        "#### Start ####\n",
        "errors = calc_errors(sensor1_data)\n",
        "\n",
        "total_abs_error = errors[1]\n",
        "total_rel_error = errors[2]\n",
        "\n",
        "#### End ######\n",
        "print(f\"Para el sensor 1, el error absoluto es: {total_abs_error}\",\n",
        "      f\"el error relativo es: {total_rel_error}\")\n",
        "      \n",
        "# TODO: Calcula el error absoluto y relativo utilizando todas las mediciones del sensor 2\n",
        "#### Start ####\n",
        "errors = calc_errors(sensor2_data)\n",
        "\n",
        "total_abs_error = errors[1]\n",
        "total_rel_error = errors[2]\n",
        "#### End ######\n",
        "print(f\"Para el sensor 2, el error absoluto es: {total_abs_error}\",\n",
        "      f\"el error relativo es: {total_rel_error}\")\n"
      ]
    },
    {
      "cell_type": "markdown",
      "metadata": {
        "id": "sUVl-AS1LlEn"
      },
      "source": [
        "## Calibración e histéresis\n",
        "\n",
        "En el archivo **data.csv** se muestran los valores obtenidos al realizar la calibración de un instrumento de medida de pesos.\n",
        "\n",
        "Lo primero que haremos será leer este archivo, una manera de hacerlo es utilizando pandas, esta librería es bastante util para leer datos en formato csv."
      ]
    },
    {
      "cell_type": "code",
      "execution_count": null,
      "metadata": {
        "colab": {
          "base_uri": "https://localhost:8080/"
        },
        "id": "IxoIsF9lLlEn",
        "outputId": "615d0378-a68c-447f-9d2d-869cb87952e2"
      },
      "outputs": [
        {
          "name": "stdout",
          "output_type": "stream",
          "text": [
            "   Carga  Incrementando  Decrementando\n",
            "0      0           0.08           0.06\n",
            "1      5           0.45           0.88\n",
            "2     10           1.02           2.04\n",
            "3     15           1.71           3.10\n",
            "4     20           2.55           4.18\n"
          ]
        }
      ],
      "source": [
        "import pandas as pd\n",
        "df = pd.read_csv('data.csv', sep=',', header=0)\n",
        "# Imprimiendo las primeros 5 lineas\n",
        "print(df.head(5))"
      ]
    },
    {
      "cell_type": "markdown",
      "metadata": {
        "id": "j5aAYlSNF3W6"
      },
      "source": [
        "Tu trabajo es graficar dos lineas:\n",
        "- La primera linea será de color <span style=\"color:blue\">azul</span> y tendra la carga en el eje de las $x$ y la medición incrementando en el eje de las $y$.\n",
        "- La segunda linea será de color <span style=\"color:red\">rojo</span> y tendra la carga en el eje de las $x$ y la medición decrementando en el eje de las $y$.  "
      ]
    },
    {
      "cell_type": "code",
      "execution_count": null,
      "metadata": {
        "colab": {
          "base_uri": "https://localhost:8080/",
          "height": 265
        },
        "id": "AnXmcJE8LlEn",
        "outputId": "5bda3d7a-7cde-4f88-8ac2-948adde5798d"
      },
      "outputs": [
        {
          "data": {
            "image/png": "[encoded data removed]",
            "text/plain": [
              "<Figure size 432x288 with 1 Axes>"
            ]
          },
          "metadata": {
            "needs_background": "light"
          },
          "output_type": "display_data"
        }
      ],
      "source": [
        "# TODO: Grafica los datos\n",
        "# Revisa la documentación de matplotlib y grafica los datos con distintos colores\n",
        "# https://matplotlib.org/stable/tutorials/introductory/quick_start.html#coding-styles\n",
        "# Puedes acceder a la columna de carga como df[\"Carga\"]\n",
        "# Hint: puedes usar plt.plot de matplotlib\n",
        "plt.plot(df['Carga'], df['Incrementando'],c=\"blue\", label=\"Incrementando\")\n",
        "plt.plot(df['Carga'], df['Decrementando'],c=\"red\", label=\"Decrementando\")\n",
        "plt.legend()\n",
        "plt.show()"
      ]
    },
    {
      "cell_type": "markdown",
      "metadata": {
        "id": "LZkmJWiIF3W6"
      },
      "source": [
        "Esta gráfica demuestra de manera clara el fenómeno conocido como **histéresis**, en donde la medición del sensor depende de la medición anterior. \n",
        "\n",
        "Para calcular numéricamente la histéresis puedes usar la siguiente fórmula:\n",
        "\n",
        "$histeresis = \\frac{error_{max}}{rango}$"
      ]
    },
    {
      "cell_type": "code",
      "execution_count": null,
      "metadata": {
        "colab": {
          "base_uri": "https://localhost:8080/"
        },
        "id": "wKIZdppSF3W6",
        "outputId": "854805cc-73f0-46aa-b645-06ed972f3dd8"
      },
      "outputs": [
        {
          "data": {
            "text/plain": [
              "0.09769539078156318"
            ]
          },
          "execution_count": 52,
          "metadata": {},
          "output_type": "execute_result"
        }
      ],
      "source": [
        "def histeresis(decrementando, incrementando):\n",
        "    \"\"\" \n",
        "    Calcular la histéresis del instrumento de medición\n",
        "    \"\"\"\n",
        "    # TODO: Calcula el error máximo:\n",
        "    # Resta el valor de decrementando menos el valor de incrementando\n",
        "    # y luego encuentra el valor máximo de la lista resultante,\n",
        "    #### Start ####\n",
        "    lista = df['Decrementando'] - df['Incrementando']\n",
        "    error_max = max(lista)\n",
        "    #### End ######\n",
        "    # TODO: Calcula el rango:\n",
        "    # Resta el valor max de decrementando menos el valor min de decrementando\n",
        "    #### Start ####\n",
        "    rango = max(df['Decrementando']) - min(df['Decrementando'])\n",
        "    #### End ######\n",
        "    return error_max/rango\n",
        "\n",
        "histeresis(df[\"Decrementando\"], df[\"Incrementando\"])"
      ]
    },
    {
      "cell_type": "markdown",
      "metadata": {
        "id": "JB9XYZODLlEn"
      },
      "source": [
        "### Modelo de regresión lineal\n",
        "\n",
        "Ahora vamos a encontrar un modelo lineal utilizando la columna de incrementando."
      ]
    },
    {
      "cell_type": "code",
      "execution_count": null,
      "metadata": {
        "id": "zXfd4YelLlEo"
      },
      "outputs": [],
      "source": [
        "# TODO: Usaremos como x la columna de carga y como y la columna de incrementando\n",
        "# Define dos variables x y y con la información requerida\n",
        "#### Start ####\n",
        "\n",
        "#### End ######\n",
        "\n",
        "# Como vimos en clase aumentaremos x con una columna de unos, \n",
        "# considerando el termino para el sesgo\n",
        "A = np.vstack([x, np.ones(len(x))]).T\n",
        "\n",
        "#TODO: Encuentra la solución utilizando {A} y {y}\n",
        "#Hint: utiliza np.linalg.lstsq para encontrar la solución por minimos cuadrados\n",
        "#### Start ####\n",
        "\n",
        "#### End ######\n",
        "\n",
        "#TODO: Grafica la línea de los datos de incrementando junto con las \n",
        "# predicciones de tu modelo linealizado\n",
        "#### Start ####\n",
        "plt.plot(..., label=\"Incrementando\")\n",
        "plt.plot(..., label=\"modelo\")\n",
        "#### End ######\n",
        "plt.show()\n",
        "\n"
      ]
    },
    {
      "cell_type": "markdown",
      "metadata": {
        "id": "LmvhR8oELlEo"
      },
      "source": [
        "### Conclusión\n",
        "TODO: Escriban sus conclusiones individuales"
      ]
    }
  ],
  "metadata": {
    "colab": {
      "provenance": []
    },
    "kernelspec": {
      "display_name": "Python 3",
      "language": "python",
      "name": "python3"
    },
    "language_info": {
      "codemirror_mode": {
        "name": "ipython",
        "version": 3
      },
      "file_extension": ".py",
      "mimetype": "text/x-python",
      "name": "python",
      "nbconvert_exporter": "python",
      "pygments_lexer": "ipython3",
      "version": "3.10.4 (main, Jan 25 2023, 00:13:50) [GCC 9.4.0]"
    },
    "orig_nbformat": 4,
    "vscode": {
      "interpreter": {
        "hash": "3ad933181bd8a04b432d3370b9dc3b0662ad032c4dfaa4e4f1596c548f763858"
      }
    }
  },
  "nbformat": 4,
  "nbformat_minor": 0
}
